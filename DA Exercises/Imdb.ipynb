{
 "cells": [
  {
   "cell_type": "markdown",
   "metadata": {},
   "source": [
    "### IMDB\n",
    "#### In this assignment, you will work on movie data from IMDB.\n",
    "- The data includes movies and ratings from the IMDB website\n",
    "- Data File(s): imdb.xlsx\n",
    "\n",
    "#### Data file contains 3 sheets:\n",
    "- “imdb”: contains records of movies and ratings scraped from IMDB website\n",
    "- “countries”: contains the country (of origin) names\n",
    "- “directors”: contains the director names"
   ]
  },
  {
   "cell_type": "code",
   "execution_count": 1,
   "metadata": {},
   "outputs": [],
   "source": [
    "\"\"\" Q1: \n",
    "Load and read the 'imdb.xlsx' file. Read the 'imdb' sheet into a DataFrame, df.\n",
    "\"\"\"\n",
    "\n",
    "import pandas as pd\n",
    "\n",
    "# your code here\n",
    "xls = pd.ExcelFile('imdb.xlsx')\n",
    "df = xls.parse('imdb')"
   ]
  },
  {
   "cell_type": "code",
   "execution_count": 2,
   "metadata": {},
   "outputs": [],
   "source": [
    "\"\"\" Q2: \n",
    "Store the dimensions of the DataFrame in a variable called 'shape' and print it.\n",
    "\"\"\"\n",
    "\n",
    "# your code here\n",
    "shape=df.shape"
   ]
  },
  {
   "cell_type": "code",
   "execution_count": 3,
   "metadata": {},
   "outputs": [],
   "source": [
    "\"\"\" Q3: \n",
    "Store the column titles and the types of data in variables named 'columns' and 'dtypes', then print them.\n",
    "\"\"\"\n",
    "\n",
    "# your code here\n",
    "columns=df.columns\n",
    "dtypes=df.dtypes"
   ]
  },
  {
   "cell_type": "code",
   "execution_count": 4,
   "metadata": {},
   "outputs": [],
   "source": [
    "\"\"\" Q4: \n",
    "Examine the first 10 rows of data; store them in a variable called first10\n",
    "\"\"\"\n",
    "\n",
    "# your code here\n",
    "first10=df.head(10)"
   ]
  },
  {
   "cell_type": "code",
   "execution_count": 5,
   "metadata": {},
   "outputs": [],
   "source": [
    "\"\"\" Q5: \n",
    "Examine the first 5 rows of data; store them in a variable called first5\n",
    "\"\"\"\n",
    "\n",
    "# your code here\n",
    "first5=df.head()"
   ]
  },
  {
   "cell_type": "code",
   "execution_count": 6,
   "metadata": {},
   "outputs": [],
   "source": [
    "\"\"\" Q6: \n",
    "Import the \"directors\" and \"countries\" sheets into their own DataFrames, df_directors and df_countries.\n",
    "\"\"\"\n",
    "\n",
    "# your code here\n",
    "df_directors = xls.parse('directors')\n",
    "df_countries = xls.parse('countries')"
   ]
  },
  {
   "cell_type": "code",
   "execution_count": 7,
   "metadata": {},
   "outputs": [],
   "source": [
    "\"\"\" Q7: \n",
    "Check the \"directors\" sheet\n",
    "1. Count how many records there are based on the \"id\" column. (To get the number of records per \"id\", \n",
    "   use the value_counts method.) Store the result in a variable named count.\n",
    "2. Remove the duplicates from the directors dataframe and store the result in a variable called df_directors_clean.\n",
    "\"\"\"\n",
    "\n",
    "# your code here\n",
    "count=df_directors['id'].value_counts()\n",
    "df_directors_clean=df_directors.drop_duplicates()"
   ]
  },
  {
   "cell_type": "code",
   "execution_count": 8,
   "metadata": {},
   "outputs": [
    {
     "data": {
      "text/plain": [
       "(178, 12)"
      ]
     },
     "execution_count": 8,
     "metadata": {},
     "output_type": "execute_result"
    }
   ],
   "source": [
    "\"\"\" Q8: \n",
    "Join three Dataframes: df, df_directors, and df_countries with an inner join.\n",
    "Store the joined DataFrames in df.\n",
    "\"\"\"\n",
    "\n",
    "# your code here\n",
    "temp=pd.merge(df,df_countries,left_on='country_id',right_on='id',how='inner')\n",
    "df=pd.merge(temp,df_directors,left_on='director_id',right_on='id',how='inner')\n",
    "\n",
    "# After the join, the resulting Dataframe should have 12 columns.\n",
    "df.shape"
   ]
  },
  {
   "cell_type": "code",
   "execution_count": 9,
   "metadata": {},
   "outputs": [
    {
     "name": "stdout",
     "output_type": "stream",
     "text": [
      "0    The Shawshank RedemptionÊ\n",
      "1              The Green MileÊ\n",
      "2               The GodfatherÊ\n",
      "3      The Godfather: Part IIÊ\n",
      "4              Apocalypse NowÊ\n",
      "5             The Dark KnightÊ\n",
      "6                   InceptionÊ\n",
      "7                InterstellarÊ\n",
      "8                     MementoÊ\n",
      "9                The PrestigeÊ\n",
      "Name: movie_title, dtype: object\n"
     ]
    }
   ],
   "source": [
    "\"\"\" Q9: \n",
    "Save the first ten rows of movie titles in a variable called first10, then print it\n",
    "\"\"\"\n",
    "\n",
    "# your code here\n",
    "first10=df['movie_title'][:10]\n",
    "print(first10)"
   ]
  },
  {
   "cell_type": "code",
   "execution_count": 10,
   "metadata": {},
   "outputs": [
    {
     "name": "stdout",
     "output_type": "stream",
     "text": [
      "0    The Shawshank Redemption\n",
      "1              The Green Mile\n",
      "2               The Godfather\n",
      "3      The Godfather: Part II\n",
      "4              Apocalypse Now\n",
      "5             The Dark Knight\n",
      "6                   Inception\n",
      "7                Interstellar\n",
      "8                     Memento\n",
      "9                The Prestige\n",
      "Name: movie_title, dtype: object\n"
     ]
    }
   ],
   "source": [
    "\"\"\" Q10: \n",
    "There's an extra character at the end of each movie title. \n",
    "Remove it from the data using str.replace.\n",
    "And print the first ten rows of movie titles again. \n",
    "\"\"\"\n",
    "\n",
    "# your code here\n",
    "last_char=df['movie_title'][0][-1]\n",
    "df['movie_title']=df['movie_title'].str.replace(last_char,'')\n",
    "print(df['movie_title'][:10])"
   ]
  },
  {
   "cell_type": "code",
   "execution_count": 11,
   "metadata": {},
   "outputs": [],
   "source": [
    "\"\"\" Q11:\n",
    "Who is the director with the most movies? First get the number of movies per \"director_name\", then save the director's name\n",
    "and count as a series of length 1 called \"director_with_most\"\n",
    "\"\"\"\n",
    "\n",
    "# your code here\n",
    "director_with_most=df['director_name'].value_counts()[:1]"
   ]
  },
  {
   "cell_type": "code",
   "execution_count": 12,
   "metadata": {},
   "outputs": [],
   "source": [
    "\"\"\"Q12:\n",
    "Save all of this director's movies and their ratings in a variable called all_movies_ratings, then print this variable.\n",
    "(The director with the most movies you got from the last question.)\n",
    "\"\"\"\n",
    "\n",
    "# your code here\n",
    "all_movies_ratings=df.loc[df['director_name']==director_with_most.index[0]][['movie_title','imdb_score']]"
   ]
  },
  {
   "cell_type": "code",
   "execution_count": 13,
   "metadata": {},
   "outputs": [],
   "source": [
    "\"\"\"Q13:\n",
    "Recommend a **random** movie that has a rating of over 8.3. \n",
    "What is the title and imdb_score of your recommendation?\n",
    "\n",
    "Name your variables as follows:\n",
    "-----------------------------------------------------------------------------\n",
    "  goodmovie       <- Those movies with a rating over 8.3\n",
    "  rand_int        <- The random integer index location of your recommendation\n",
    "  rand_goodmovie  <- The random recommendation\n",
    "\"\"\"\n",
    "\n",
    "import random\n",
    "random.seed(0)\n",
    "\n",
    "# your code here\n",
    "goodmovie=df['imdb_score']>8.3\n",
    "filtered_df=df.loc[goodmovie]\n",
    "rand_int=random.randint(0,len(filtered_df)-1)\n",
    "rand_goodmovie=filtered_df.iloc[rand_int:rand_int+1]"
   ]
  },
  {
   "cell_type": "code",
   "execution_count": 14,
   "metadata": {},
   "outputs": [
    {
     "data": {
      "text/html": [
       "<div>\n",
       "<style scoped>\n",
       "    .dataframe tbody tr th:only-of-type {\n",
       "        vertical-align: middle;\n",
       "    }\n",
       "\n",
       "    .dataframe tbody tr th {\n",
       "        vertical-align: top;\n",
       "    }\n",
       "\n",
       "    .dataframe thead th {\n",
       "        text-align: right;\n",
       "    }\n",
       "</style>\n",
       "<table border=\"1\" class=\"dataframe\">\n",
       "  <thead>\n",
       "    <tr style=\"text-align: right;\">\n",
       "      <th></th>\n",
       "      <th>imdb_score</th>\n",
       "      <th>gross</th>\n",
       "    </tr>\n",
       "  </thead>\n",
       "  <tbody>\n",
       "    <tr>\n",
       "      <th>count</th>\n",
       "      <td>178.000000</td>\n",
       "      <td>1.780000e+02</td>\n",
       "    </tr>\n",
       "    <tr>\n",
       "      <th>mean</th>\n",
       "      <td>8.294382</td>\n",
       "      <td>1.030402e+08</td>\n",
       "    </tr>\n",
       "    <tr>\n",
       "      <th>std</th>\n",
       "      <td>0.266960</td>\n",
       "      <td>1.242549e+08</td>\n",
       "    </tr>\n",
       "    <tr>\n",
       "      <th>min</th>\n",
       "      <td>8.000000</td>\n",
       "      <td>8.060000e+03</td>\n",
       "    </tr>\n",
       "    <tr>\n",
       "      <th>25%</th>\n",
       "      <td>8.100000</td>\n",
       "      <td>1.318510e+07</td>\n",
       "    </tr>\n",
       "    <tr>\n",
       "      <th>50%</th>\n",
       "      <td>8.200000</td>\n",
       "      <td>5.194371e+07</td>\n",
       "    </tr>\n",
       "    <tr>\n",
       "      <th>75%</th>\n",
       "      <td>8.475000</td>\n",
       "      <td>1.522436e+08</td>\n",
       "    </tr>\n",
       "    <tr>\n",
       "      <th>max</th>\n",
       "      <td>9.300000</td>\n",
       "      <td>6.232795e+08</td>\n",
       "    </tr>\n",
       "  </tbody>\n",
       "</table>\n",
       "</div>"
      ],
      "text/plain": [
       "       imdb_score         gross\n",
       "count  178.000000  1.780000e+02\n",
       "mean     8.294382  1.030402e+08\n",
       "std      0.266960  1.242549e+08\n",
       "min      8.000000  8.060000e+03\n",
       "25%      8.100000  1.318510e+07\n",
       "50%      8.200000  5.194371e+07\n",
       "75%      8.475000  1.522436e+08\n",
       "max      9.300000  6.232795e+08"
      ]
     },
     "execution_count": 14,
     "metadata": {},
     "output_type": "execute_result"
    }
   ],
   "source": [
    "\"\"\" Q14: \n",
    "Get the summary statistics for imdb_score and gross, then use the describe() function to summarize this visually. Save the\n",
    "result in a variable called score_gross_description and print it.\n",
    "\"\"\"\n",
    "\n",
    "# your code here\n",
    "score_gross_description=df.describe()[['imdb_score','gross']]\n",
    "score_gross_description"
   ]
  },
  {
   "cell_type": "code",
   "execution_count": 15,
   "metadata": {},
   "outputs": [
    {
     "data": {
      "text/plain": [
       "8.6"
      ]
     },
     "execution_count": 15,
     "metadata": {},
     "output_type": "execute_result"
    }
   ],
   "source": [
    "\"\"\"Q15:\n",
    "What is the average rating of the director Christopher Nolan's movies? Save this value in a variable called nolan_mean and \n",
    "print\n",
    "\"\"\"\n",
    "\n",
    "# your code here\n",
    "nolan_mean=df.loc[df['director_name']=='Christopher Nolan']['imdb_score'].mean()\n",
    "nolan_mean"
   ]
  },
  {
   "cell_type": "code",
   "execution_count": 16,
   "metadata": {},
   "outputs": [],
   "source": [
    "\"\"\"Q16: \n",
    "Create a series called 'directors' that contains each director's name and his or her average rating.\n",
    "Use your new data frame to find the average rating for Steven Spielberg.\n",
    "Print out the type of your variable, then the contents\n",
    "\"\"\"\n",
    "\n",
    "# your code here\n",
    "directors=df.groupby('director_name')['imdb_score'].mean()"
   ]
  },
  {
   "cell_type": "code",
   "execution_count": 17,
   "metadata": {},
   "outputs": [],
   "source": [
    "\"\"\"Q17:\n",
    "Select the non-USA (country_id=1) movies or movies made before 1960 by Hayao Miyazaki (director_id=46).\n",
    "What are the years returned? Save them in a series called 'miyazaki', then print it\n",
    "\"\"\"\n",
    "\n",
    "# your code here\n",
    "mask1=df['country']!='USA'\n",
    "mask2= df['title_year']<1960\n",
    "mask3=df['director_name']=='Hayao Miyazaki'\n",
    "miyazaki=df.loc[(mask1 | mask2) & mask3]"
   ]
  },
  {
   "cell_type": "code",
   "execution_count": 18,
   "metadata": {},
   "outputs": [
    {
     "data": {
      "text/html": [
       "<div>\n",
       "<style scoped>\n",
       "    .dataframe tbody tr th:only-of-type {\n",
       "        vertical-align: middle;\n",
       "    }\n",
       "\n",
       "    .dataframe tbody tr th {\n",
       "        vertical-align: top;\n",
       "    }\n",
       "\n",
       "    .dataframe thead th {\n",
       "        text-align: right;\n",
       "    }\n",
       "</style>\n",
       "<table border=\"1\" class=\"dataframe\">\n",
       "  <thead>\n",
       "    <tr style=\"text-align: right;\">\n",
       "      <th></th>\n",
       "      <th></th>\n",
       "      <th>imdb_score</th>\n",
       "    </tr>\n",
       "    <tr>\n",
       "      <th>country</th>\n",
       "      <th>director_name</th>\n",
       "      <th></th>\n",
       "    </tr>\n",
       "  </thead>\n",
       "  <tbody>\n",
       "    <tr>\n",
       "      <th>Argentina</th>\n",
       "      <th>Juan Jose Campanella</th>\n",
       "      <td>8.20</td>\n",
       "    </tr>\n",
       "    <tr>\n",
       "      <th>Australia</th>\n",
       "      <th>George Miller</th>\n",
       "      <td>8.10</td>\n",
       "    </tr>\n",
       "    <tr>\n",
       "      <th rowspan=\"2\" valign=\"top\">Brazil</th>\n",
       "      <th>Fernando Meirelles</th>\n",
       "      <td>8.70</td>\n",
       "    </tr>\n",
       "    <tr>\n",
       "      <th>Jose Padilha</th>\n",
       "      <td>8.10</td>\n",
       "    </tr>\n",
       "    <tr>\n",
       "      <th>Canada</th>\n",
       "      <th>Denis Villeneuve</th>\n",
       "      <td>8.20</td>\n",
       "    </tr>\n",
       "    <tr>\n",
       "      <th>...</th>\n",
       "      <th>...</th>\n",
       "      <td>...</td>\n",
       "    </tr>\n",
       "    <tr>\n",
       "      <th rowspan=\"4\" valign=\"top\">USA</th>\n",
       "      <th>Tony Scott</th>\n",
       "      <td>8.00</td>\n",
       "    </tr>\n",
       "    <tr>\n",
       "      <th>Victor Fleming</th>\n",
       "      <td>8.15</td>\n",
       "    </tr>\n",
       "    <tr>\n",
       "      <th>Wes Anderson</th>\n",
       "      <td>8.10</td>\n",
       "    </tr>\n",
       "    <tr>\n",
       "      <th>Woody Allen</th>\n",
       "      <td>8.10</td>\n",
       "    </tr>\n",
       "    <tr>\n",
       "      <th>West Germany</th>\n",
       "      <th>Wolfgang Petersen</th>\n",
       "      <td>8.40</td>\n",
       "    </tr>\n",
       "  </tbody>\n",
       "</table>\n",
       "<p>125 rows × 1 columns</p>\n",
       "</div>"
      ],
      "text/plain": [
       "                                   imdb_score\n",
       "country      director_name                   \n",
       "Argentina    Juan Jose Campanella        8.20\n",
       "Australia    George Miller               8.10\n",
       "Brazil       Fernando Meirelles          8.70\n",
       "             Jose Padilha                8.10\n",
       "Canada       Denis Villeneuve            8.20\n",
       "...                                       ...\n",
       "USA          Tony Scott                  8.00\n",
       "             Victor Fleming              8.15\n",
       "             Wes Anderson                8.10\n",
       "             Woody Allen                 8.10\n",
       "West Germany Wolfgang Petersen           8.40\n",
       "\n",
       "[125 rows x 1 columns]"
      ]
     },
     "execution_count": 18,
     "metadata": {},
     "output_type": "execute_result"
    }
   ],
   "source": [
    "\"\"\"Q18: \n",
    "Create a Pivot Table that shows the median rating for each director, grouped by their respective countries. Name your variable\n",
    "'pivot_agg'\n",
    "\"\"\"\n",
    "\n",
    "# your code here\n",
    "pivot_agg=pd.pivot_table(df,index=['country','director_name'],values=['imdb_score'],aggfunc={'imdb_score':'median'})\n",
    "pivot_agg"
   ]
  },
  {
   "cell_type": "code",
   "execution_count": 19,
   "metadata": {},
   "outputs": [],
   "source": [
    "\"\"\"Q19:\n",
    "ARE YOU NOT ENTERTAINED? How long did the Gladiator aim to keep your attention? Save the series with this information \n",
    "in a variable called gladiator_duration, then print it\n",
    "\"\"\"\n",
    "\n",
    "# your code here\n",
    "gladiator_duration=df.loc[df['movie_title']=='Gladiator']['duration']"
   ]
  }
 ],
 "metadata": {
  "kernelspec": {
   "display_name": "Python 3",
   "language": "python",
   "name": "python3"
  },
  "language_info": {
   "codemirror_mode": {
    "name": "ipython",
    "version": 3
   },
   "file_extension": ".py",
   "mimetype": "text/x-python",
   "name": "python",
   "nbconvert_exporter": "python",
   "pygments_lexer": "ipython3",
   "version": "3.7.3"
  }
 },
 "nbformat": 4,
 "nbformat_minor": 4
}
