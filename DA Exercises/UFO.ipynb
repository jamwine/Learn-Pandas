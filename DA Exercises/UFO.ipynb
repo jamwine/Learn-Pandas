{
 "cells": [
  {
   "cell_type": "markdown",
   "metadata": {},
   "source": [
    "## Data Analysis - Module 1\n",
    "#### In this assignment, you will work with ufo sightings data.\n",
    "- The data includes various data points about individual ufo sightings\n",
    "- Data File(s): ufo-sightings.csv"
   ]
  },
  {
   "cell_type": "code",
   "execution_count": 1,
   "metadata": {},
   "outputs": [
    {
     "name": "stdout",
     "output_type": "stream",
     "text": [
      "['datetime', 'city', 'state', 'country', 'shape', 'duration (seconds)', 'duration (hours/min)', 'comments', 'date posted', 'latitude', 'longitude ']\n"
     ]
    }
   ],
   "source": [
    "'''\n",
    "1. Import the csv module. Load and read the UFO sightings data set, from the ufo-sightings.csv file, \n",
    "into a DictReader inside a with statement.  Assume the data file is in the same directory as the code. \n",
    "\n",
    "Print the field names of the data set. Iterate over the reader to put the data into a list name \"ufosightings\".\n",
    "\n",
    "'''\n",
    "\n",
    "import csv\n",
    "filepath = \"ufo-sightings.csv\"\n",
    "ufosightings = [] \n",
    "\n",
    "with open(filepath, 'r') as csvfile:\n",
    "    reader = csv.DictReader(csvfile)\n",
    "    print(reader.fieldnames)\n",
    "    for row in reader:\n",
    "        ufosightings.append(row)"
   ]
  },
  {
   "cell_type": "code",
   "execution_count": 2,
   "metadata": {},
   "outputs": [],
   "source": [
    "'''\n",
    "2. How many sightings were there in total?  Put the count in \"ufosightings_count\" and print the result.\n",
    "'''\n",
    "# your code here\n",
    "ufosightings_count=len(ufosightings)"
   ]
  },
  {
   "cell_type": "code",
   "execution_count": 3,
   "metadata": {},
   "outputs": [],
   "source": [
    "'''\n",
    "3. How many sightings were there in the US?  Put them in \"sightings_us\" and print the result.\n",
    "\n",
    "'''\n",
    "\n",
    "# your code here\n",
    "sightings_us= ([row for row in ufosightings if row[\"country\"] == \"us\"])"
   ]
  },
  {
   "cell_type": "code",
   "execution_count": 4,
   "metadata": {},
   "outputs": [],
   "source": [
    "'''\n",
    "4. Let's find the \"fireball\" sighting(s) after 1960 that lasted more than ten seconds. \n",
    "Print the the datetime and state of each.  Put the data in \"fball\" and print the result.\n",
    "\n",
    "- Cast the duration in seconds to a float (decimal). \n",
    "- Check if the shape is \"fireball\".\n",
    "- Check if the datetime is after \"01/01/1960 00:00:00 AM\".\n",
    "\n",
    "'''\n",
    "\n",
    "#First, define a Python function that checks if a given duration (seconds) is \"valid\"\n",
    "def is_valid_duration(duration_as_string):\n",
    "    try:\n",
    "        duration = float(duration_as_string)\n",
    "        return duration\n",
    "    except ValueError:\n",
    "        return 0\n",
    "    \n",
    "def check_date(date_string):\n",
    "    try:\n",
    "        year=int(date_string.split()[0][-4:])>=1960\n",
    "        return year\n",
    "    except ValueError:\n",
    "        return False\n",
    "    \n",
    "fball=[] \n",
    "for ufo in ufosightings:\n",
    "    ufo['duration (seconds)']=is_valid_duration(ufo['duration (seconds)'])\n",
    "    if (ufo['shape']=='fireball') and (ufo['duration (seconds)']>10) and (check_date(ufo['datetime'])):\n",
    "        fball.append(ufo)"
   ]
  },
  {
   "cell_type": "code",
   "execution_count": 5,
   "metadata": {},
   "outputs": [],
   "source": [
    "'''\n",
    "5. Sort the above list by duration. What was the datetime and duration of the longest sighting?  \n",
    "Put the sorted list in \"fballsorted\" and print the result.\n",
    "\n",
    "- Cast the duration in seconds to a float (decimal). \n",
    "- Sort in reverse.\n",
    "\n",
    "'''\n",
    "# your code here\n",
    "for ufo in fball:\n",
    "    ufo['duration (seconds)']=is_valid_duration(ufo['duration (seconds)'])\n",
    "fballsorted = sorted(fball, key = lambda x: x[\"duration (seconds)\"],reverse=True)"
   ]
  },
  {
   "cell_type": "code",
   "execution_count": 6,
   "metadata": {},
   "outputs": [],
   "source": [
    "'''\n",
    "6. What state had the longest lasting \"fireball\"?   Put the state in \"state\" and print the result.\n",
    "\n",
    "- Cast the duration in seconds to a float (decimal).\n",
    "- Get the max.\n",
    "\n",
    "'''\n",
    "\n",
    "# your code here\n",
    "state=fballsorted[0]['state']"
   ]
  },
  {
   "cell_type": "code",
   "execution_count": 7,
   "metadata": {},
   "outputs": [],
   "source": [
    "'''\n",
    "7. Let's assume that any sighting of 0 seconds is insignificant. \n",
    "Write code to filter out these extraneous records and get the shortest sighting overall now.  \n",
    "Put the minimum duration in \"min_duration\" and print the result.\n",
    "\n",
    "'''\n",
    "new=[]\n",
    "# your code here\n",
    "for ufo in ufosightings:\n",
    "    if ufo['duration (seconds)']>0:\n",
    "        new.append(ufo)\n",
    "new=sorted(new, key = lambda x: x[\"duration (seconds)\"])\n",
    "min_duration=new[0][\"duration (seconds)\"]"
   ]
  },
  {
   "cell_type": "code",
   "execution_count": 8,
   "metadata": {},
   "outputs": [],
   "source": [
    "'''\n",
    "8. What are the top 3 shapes sighted, and how many sightings were there for each? \n",
    "\n",
    "- Create a new list \"sightings_shapes\" containing values from the \"shape\" column in ufosightings.  \n",
    "- Create a new dictionary \"count\" with values of that column as keys and the counts as values.\n",
    "- Get a list of the dictionary keys and values using the items() method.  This will return a list of key:value pairs.\n",
    "Sort the list of key:value pairs in reverse.\n",
    "\n",
    "Get the top 3 and store in \"top3shapes\".  Print the result.\n",
    "\n",
    "'''\n",
    "\n",
    "#Create a new list containing values from the \"shape\" column in ufosightings.\n",
    "# your code here\n",
    "sightings_shapes=[]\n",
    "for ufo in ufosightings:\n",
    "    sightings_shapes.append(ufo['shape'])\n",
    "    \n",
    "    \n",
    "#Create a new dictionary with values of that column as keys and the counts as values.\n",
    "# your code here\n",
    "count=dict()\n",
    "for ufo in ufosightings:\n",
    "    count[ufo['shape']]=count.get(ufo['shape'],0)+1\n",
    "        \n",
    "#Get a list of the dictionary keys and values (use the items() method) and sort them in reverse.\n",
    "#Get and print the top 3.\n",
    "# your code here\n",
    "all_items=count.items()\n",
    "sorted_items=sorted(all_items, key=lambda x:x[1],reverse=True)\n",
    "top3shapes=sorted_items[0:3]"
   ]
  }
 ],
 "metadata": {
  "kernelspec": {
   "display_name": "Python 3",
   "language": "python",
   "name": "python3"
  },
  "language_info": {
   "codemirror_mode": {
    "name": "ipython",
    "version": 3
   },
   "file_extension": ".py",
   "mimetype": "text/x-python",
   "name": "python",
   "nbconvert_exporter": "python",
   "pygments_lexer": "ipython3",
   "version": "3.7.3"
  }
 },
 "nbformat": 4,
 "nbformat_minor": 4
}
